{
 "cells": [
  {
   "cell_type": "markdown",
   "metadata": {},
   "source": [
    "The idea is to do 3 rnn \n",
    "1) pure tf \n",
    "2) skflow\n",
    "3) keras"
   ]
  },
  {
   "cell_type": "code",
   "execution_count": null,
   "metadata": {
    "collapsed": false
   },
   "outputs": [],
   "source": []
  },
  {
   "cell_type": "code",
   "execution_count": 9,
   "metadata": {
    "collapsed": false
   },
   "outputs": [
    {
     "data": {
      "text/plain": [
       "<matplotlib.axes._subplots.AxesSubplot at 0x10bde8850>"
      ]
     },
     "execution_count": 9,
     "metadata": {},
     "output_type": "execute_result"
    },
    {
     "data": {
      "image/png": "[encoded data removed]",
      "text/plain": [
       "<matplotlib.figure.Figure at 0x10bde8210>"
      ]
     },
     "metadata": {},
     "output_type": "display_data"
    }
   ],
   "source": [
    "###dataset\n",
    "\n",
    "%matplotlib inline\n",
    "\n",
    "import matplotlib\n",
    "import numpy as np\n",
    "import matplotlib.pyplot as plt\n",
    "\n",
    "import pandas as pd  \n",
    "from random import random\n",
    "\n",
    "flow = (list(range(1,10,1)) + list(range(10,1,-1)))*1000  \n",
    "pdata = pd.DataFrame({\"a\":flow, \"b\":flow})  \n",
    "pdata.b = pdata.b.shift(9)  \n",
    "data = pdata.iloc[10:] * random()  # some noise  \n",
    "\n",
    "import numpy as np\n",
    "\n",
    "def _load_data(data, n_prev = 400):  \n",
    "    \"\"\"\n",
    "    data should be pd.DataFrame()\n",
    "    \"\"\"\n",
    "\n",
    "    docX, docY = [], []\n",
    "    for i in range(len(data)-n_prev):\n",
    "        docX.append(data.iloc[i:i+n_prev].as_matrix())\n",
    "        docY.append(data.iloc[i+n_prev].as_matrix())\n",
    "    alsX = np.array(docX)\n",
    "    alsY = np.array(docY)\n",
    "\n",
    "    return alsX, alsY\n",
    "\n",
    "def train_test_split(df, test_size=0.1):  \n",
    "    \"\"\"\n",
    "    This just splits data to training and testing parts\n",
    "    \"\"\"\n",
    "    ntrn = round(len(df) * (1 - test_size))\n",
    "\n",
    "    X_train, y_train = _load_data(df.iloc[0:ntrn])\n",
    "    X_test, y_test = _load_data(df.iloc[ntrn:])\n",
    "\n",
    "    return (X_train, y_train), (X_test, y_test)\n",
    "\n",
    "ntrn = int(round(len(data) * (1 - 0.1)))\n",
    "X_train, y_train = _load_data(data.iloc[0:ntrn])\n",
    "\n",
    "pd.DataFrame(X_train[1,:,1]).plot()"
   ]
  },
  {
   "cell_type": "code",
   "execution_count": 12,
   "metadata": {
    "collapsed": false
   },
   "outputs": [],
   "source": [
    "x = X_train[1,:,1]"
   ]
  },
  {
   "cell_type": "code",
   "execution_count": null,
   "metadata": {
    "collapsed": true
   },
   "outputs": [],
   "source": [
    "more info when searching for sklearn RNNRegressor"
   ]
  },
  {
   "cell_type": "code",
   "execution_count": null,
   "metadata": {
    "collapsed": true
   },
   "outputs": [],
   "source": [
    "https://github.com/tensorflow/skflow/issues/161"
   ]
  },
  {
   "cell_type": "raw",
   "metadata": {
    "collapsed": false
   },
   "source": [
    "#regression vars\n",
    "import random\n",
    "import numpy as np\n",
    "from sklearn import datasets\n",
    "from sklearn.metrics import accuracy_score, mean_squared_error\n",
    "\n",
    "import tensorflow as tf\n",
    "\n",
    "random.seed(42)\n",
    "data = np.array(list([[2, 1, 2, 2, 3],\n",
    "[2, 2, 3, 4, 5],\n",
    "[3, 3, 1, 2, 1],\n",
    "[2, 4, 5, 4, 1]]), dtype=np.float32)"
   ]
  },
  {
   "cell_type": "raw",
   "metadata": {
    "collapsed": true
   },
   "source": [
    "#labels for classification\n",
    "labels = np.array(list([1, 0, 1, 0]), dtype=np.float32)"
   ]
  },
  {
   "cell_type": "raw",
   "metadata": {
    "collapsed": false
   },
   "source": [
    "#CLASSIFICATION\n",
    "\n",
    "targets = np.array(list([10, 16, 10, 16]), dtype=np.float32)\n",
    "test_data = np.array(list([[1, 3, 3, 2, 1], [2, 3, 4, 5, 6]]))\n",
    "\n",
    "def input_fn(X):\n",
    "    return tf.split(1, 5, X)\n",
    "\n",
    "    # Classification\n",
    "classifier = skflow.TensorFlowRNNClassifier(rnn_size=2, cell_type='lstm', n_classes=2, input_op_fn=input_fn)\n",
    "classifier.fit(data, labels)\n",
    "classifier.weights_\n",
    "classifier.bias_\n",
    "predictions = classifier.predict(test_data)\n",
    "self.assertAllClose(predictions, np.array([1, 0]))\n",
    "\n",
    "classifier = skflow.TensorFlowRNNClassifier(rnn_size=2, cell_type='rnn', n_classes=2,input_op_fn=input_fn, num_layers=2)\n",
    "classifier.fit(data, labels)\n",
    "classifier = skflow.TensorFlowRNNClassifier(rnn_size=2, cell_type='invalid_cell_type', n_classes=2,input_op_fn=input_fn, num_layers=2)\n",
    "with self.assertRaises(ValueError):\n",
    "    classifier.fit(data, labels)"
   ]
  },
  {
   "cell_type": "code",
   "execution_count": 106,
   "metadata": {
    "collapsed": false
   },
   "outputs": [
    {
     "data": {
      "text/plain": [
       "array([[ 11.87805176],\n",
       "       [ 17.21040344]], dtype=float32)"
      ]
     },
     "execution_count": 106,
     "metadata": {},
     "output_type": "execute_result"
    }
   ],
   "source": [
    "#REGRESSION \n",
    "#Minimal Working example\n",
    "import random\n",
    "import numpy as np\n",
    "from sklearn import datasets\n",
    "from sklearn.metrics import accuracy_score, mean_squared_error\n",
    "from tensorflow.contrib import skflow\n",
    "import tensorflow as tf\n",
    "\n",
    "\n",
    "\n",
    "def input_fn(X):\n",
    "    return tf.split(1, 1, X)\n",
    "\n",
    "targets = np.array(list([10, 16, 10, 16]), dtype=np.float32)\n",
    "test_data = np.array(list([[1, 3, 3, 2, 1], [2, 3, 4, 5, 6]]))\n",
    "\n",
    "random.seed(42)\n",
    "data = np.array(list([[2, 1, 2, 2, 3],\n",
    "[2, 2, 3, 4, 5],\n",
    "[3, 3, 1, 2, 1],\n",
    "[2, 4, 5, 4, 1]]), dtype=np.float32)\n",
    "\n",
    "regressor = skflow.TensorFlowRNNRegressor(rnn_size=50, cell_type='gru', input_op_fn=input_fn)\n",
    "regressor.fit(data, targets)\n",
    "regressor.weights_\n",
    "regressor.bias_\n",
    "predictions = regressor.predict(np.array(test_data))\n",
    "predictions"
   ]
  },
  {
   "cell_type": "markdown",
   "metadata": {},
   "source": [
    "it looks like the data that is passed to into the RNN is a a vector of all the values for each time step, so if we have 5 time steps \n",
    "\n",
    "  [1,2,3,4,5]\n",
    "  [6,7,8,9,10] \n",
    "  \n",
    "we slice the tensor across the step dimension as \n",
    "[1,6] [2,7] [3,8] etc this is weird to my brain\n",
    "here is the basic tensorflow example: "
   ]
  },
  {
   "cell_type": "code",
   "execution_count": 96,
   "metadata": {
    "collapsed": false
   },
   "outputs": [
    {
     "data": {
      "text/plain": [
       "array([[[ 1.,  3.,  3.,  2.,  1.],\n",
       "        [ 2.,  3.,  4.,  5.,  6.]]], dtype=float32)"
      ]
     },
     "execution_count": 96,
     "metadata": {},
     "output_type": "execute_result"
    }
   ],
   "source": [
    "np.array(t)"
   ]
  },
  {
   "cell_type": "code",
   "execution_count": 129,
   "metadata": {
    "collapsed": false
   },
   "outputs": [
    {
     "data": {
      "text/plain": [
       "array([[[ 1.,  3.,  3.,  2.,  1.],\n",
       "        [ 2.,  3.,  4.,  5.,  6.]]], dtype=float32)"
      ]
     },
     "execution_count": 129,
     "metadata": {},
     "output_type": "execute_result"
    }
   ],
   "source": [
    "X = tf.placeholder(tf.float32, [None, 5], name = 'input_data')\n",
    "splitter = tf.split(1,1,X)\n",
    "with tf.Session() as sess:\n",
    "    t = sess.run(splitter, feed_dict= {X:test_data})\n",
    "np.array(t)"
   ]
  },
  {
   "cell_type": "markdown",
   "metadata": {},
   "source": [
    "#### Saw data "
   ]
  },
  {
   "cell_type": "code",
   "execution_count": 164,
   "metadata": {
    "collapsed": true
   },
   "outputs": [],
   "source": [
    "#x is generated above \n",
    "# we fit x_T \n",
    "\n",
    "import random\n",
    "import numpy as np\n",
    "from sklearn import datasets\n",
    "from sklearn.metrics import accuracy_score, mean_squared_error\n",
    "from tensorflow.contrib import skflow\n",
    "import tensorflow as tf\n",
    "\n",
    "def input_fn(X):\n",
    "    return tf.split(1, 1, X)\n"
   ]
  },
  {
   "cell_type": "code",
   "execution_count": 165,
   "metadata": {
    "collapsed": false
   },
   "outputs": [],
   "source": [
    "def create_training(x, n=len(x), seq_length=20):    \n",
    "    x_t = np.asarray([x[i:i+seq_length] for i in range(n-seq_length)])\n",
    "    y_t = np.asarray([x[i+seq_length] for i in range(n-seq_length)])\n",
    "    return x_t, y_t"
   ]
  },
  {
   "cell_type": "code",
   "execution_count": 166,
   "metadata": {
    "collapsed": false
   },
   "outputs": [],
   "source": [
    "x_t, y_t = create_training(x)"
   ]
  },
  {
   "cell_type": "code",
   "execution_count": 167,
   "metadata": {
    "collapsed": false
   },
   "outputs": [
    {
     "name": "stdout",
     "output_type": "stream",
     "text": [
      "(array([ 2.35717479,  3.14289972,  3.92862465,  4.71434958,  5.50007451,\n",
      "        6.28579944,  7.07152437,  7.85724931,  7.07152437,  6.28579944,\n",
      "        5.50007451,  4.71434958,  3.92862465,  3.14289972,  2.35717479,\n",
      "        1.57144986,  0.78572493,  1.57144986,  2.35717479,  3.14289972]), 3.9286246525434758)\n"
     ]
    }
   ],
   "source": [
    "print(x_t[0], y_t[0])"
   ]
  },
  {
   "cell_type": "code",
   "execution_count": 168,
   "metadata": {
    "collapsed": false
   },
   "outputs": [
    {
     "data": {
      "text/plain": [
       "array([[ 4.10976458]], dtype=float32)"
      ]
     },
     "execution_count": 168,
     "metadata": {},
     "output_type": "execute_result"
    }
   ],
   "source": [
    "regressor = skflow.TensorFlowRNNRegressor(rnn_size=512, cell_type='lstm', input_op_fn=input_fn)\n",
    "regressor.fit(x_t, y_t)\n",
    "regressor.weights_\n",
    "regressor.bias_\n",
    "#predictions = regressor.predict(np.array(test_data))\n",
    "regressor.predict(x_t[0:1])"
   ]
  },
  {
   "cell_type": "code",
   "execution_count": 169,
   "metadata": {
    "collapsed": false
   },
   "outputs": [
    {
     "data": {
      "text/plain": [
       "<matplotlib.axes._subplots.AxesSubplot at 0x10c416e50>"
      ]
     },
     "execution_count": 169,
     "metadata": {},
     "output_type": "execute_result"
    },
    {
     "data": {
      "image/png": "[encoded data removed]",
      "text/plain": [
       "<matplotlib.figure.Figure at 0x11ec1b090>"
      ]
     },
     "metadata": {},
     "output_type": "display_data"
    }
   ],
   "source": [
    "#Can we overfit the data? \n",
    "#yes!\n",
    "pd.DataFrame([regressor.predict(x_t[i:i+1])[0][0] for i in range(len(x_t))]).plot()"
   ]
  },
  {
   "cell_type": "code",
   "execution_count": 170,
   "metadata": {
    "collapsed": true
   },
   "outputs": [],
   "source": [
    "#We can then seed the sample with the first 20 from our real data, and let the nerual network\n",
    "#generate new lines "
   ]
  },
  {
   "cell_type": "code",
   "execution_count": 171,
   "metadata": {
    "collapsed": false
   },
   "outputs": [],
   "source": [
    "generated = []\n",
    "seed = x_t[:1,:20]\n",
    "for i in range(200):\n",
    "    seed.shape = (1,20)\n",
    "    y_hat = regressor.predict(seed)[0][0]\n",
    "    new_seed = np.hstack((seed[0],y_hat))\n",
    "    generated.append(y_hat)\n",
    "    seed = new_seed[1:]\n",
    "    "
   ]
  },
  {
   "cell_type": "code",
   "execution_count": 172,
   "metadata": {
    "collapsed": false
   },
   "outputs": [
    {
     "data": {
      "text/plain": [
       "<matplotlib.axes._subplots.AxesSubplot at 0x10cc091d0>"
      ]
     },
     "execution_count": 172,
     "metadata": {},
     "output_type": "execute_result"
    },
    {
     "data": {
      "image/png": "[encoded data removed]",
      "text/plain": [
       "<matplotlib.figure.Figure at 0x11f3cd750>"
      ]
     },
     "metadata": {},
     "output_type": "display_data"
    }
   ],
   "source": [
    "#it works\n",
    "pd.Series(generated).plot()"
   ]
  },
  {
   "cell_type": "code",
   "execution_count": 53,
   "metadata": {
    "collapsed": false
   },
   "outputs": [],
   "source": [
    "X = tf.placeholder(tf.float32, [None, 20], name = 'input_data')"
   ]
  },
  {
   "cell_type": "code",
   "execution_count": 60,
   "metadata": {
    "collapsed": false
   },
   "outputs": [],
   "source": [
    "splitter = tf.split(1, 20, X)\n"
   ]
  },
  {
   "cell_type": "code",
   "execution_count": 61,
   "metadata": {
    "collapsed": false,
    "scrolled": true
   },
   "outputs": [
    {
     "name": "stdout",
     "output_type": "stream",
     "text": [
      "(1, 1)\n"
     ]
    }
   ],
   "source": [
    "with tf.Session() as sess:\n",
    "    t = sess.run(splitter, feed_dict= {X:x_t[:1]})\n",
    "    print(t[0].shape)"
   ]
  },
  {
   "cell_type": "code",
   "execution_count": 1,
   "metadata": {
    "collapsed": false
   },
   "outputs": [],
   "source": [
    "import numpy as np\n",
    "from sklearn import metrics\n",
    "import tensorflow as tf \n",
    "from tensorflow.contrib import skflow\n",
    "\n",
    "\n",
    "#Notes \n",
    "#The number of lstm units is 1 "
   ]
  },
  {
   "cell_type": "code",
   "execution_count": 6,
   "metadata": {
    "collapsed": true
   },
   "outputs": [],
   "source": [
    "#Source for the TensorFlowRNN Regressor"
   ]
  },
  {
   "cell_type": "code",
   "execution_count": null,
   "metadata": {
    "collapsed": true
   },
   "outputs": [],
   "source": [
    "class TensorFlowRNNRegressor(TensorFlowEstimator, RegressorMixin):\n",
    "    \"\"\"TensorFlow RNN Regressor model.\n",
    "    Parameters:\n",
    "        rnn_size: The size for rnn cell, e.g. size of your word embeddings.\n",
    "        cell_type: The type of rnn cell, including rnn, gru, and lstm.\n",
    "        num_layers: The number of layers of the rnn model.\n",
    "        input_op_fn: Function that will transform the input tensor, such as\n",
    "                     creating word embeddings, byte list, etc. This takes\n",
    "                     an argument X for input and returns transformed X.\n",
    "        bidirectional: boolean, Whether this is a bidirectional rnn.\n",
    "        sequence_length: If sequence_length is provided, dynamic calculation is performed.\n",
    "                 This saves computational time when unrolling past max sequence length.\n",
    "        initial_state: An initial state for the RNN. This must be a tensor of appropriate type\n",
    "                       and shape [batch_size x cell.state_size].\n",
    "        tf_master: TensorFlow master. Empty string is default for local.\n",
    "        batch_size: Mini batch size.\n",
    "        steps: Number of steps to run over data.\n",
    "        optimizer: Optimizer name (or class), for example \"SGD\", \"Adam\",\n",
    "                   \"Adagrad\".\n",
    "        learning_rate: If this is constant float value, no decay function is used.\n",
    "            Instead, a customized decay function can be passed that accepts\n",
    "            global_step as parameter and returns a Tensor.\n",
    "            e.g. exponential decay function:\n",
    "            def exp_decay(global_step):\n",
    "                return tf.train.exponential_decay(\n",
    "                    learning_rate=0.1, global_step,\n",
    "                    decay_steps=2, decay_rate=0.001)\n",
    "        tf_random_seed: Random seed for TensorFlow initializers.\n",
    "            Setting this value, allows consistency between reruns.\n",
    "        continue_training: when continue_training is True, once initialized\n",
    "            model will be continuely trained on every call of fit.\n",
    "        num_cores: Number of cores to be used. (default: 4)\n",
    "        verbose: Controls the verbosity, possible values:\n",
    "                 0: the algorithm and debug information is muted.\n",
    "                 1: trainer prints the progress.\n",
    "                 2: log device placement is printed.\n",
    "        max_to_keep: The maximum number of recent checkpoint files to keep.\n",
    "            As new files are created, older files are deleted.\n",
    "            If None or 0, all checkpoint files are kept.\n",
    "            Defaults to 5 (that is, the 5 most recent checkpoint files are kept.)\n",
    "        keep_checkpoint_every_n_hours: Number of hours between each checkpoint\n",
    "            to be saved. The default value of 10,000 hours effectively disables the feature.\n",
    "   \"\"\"\n",
    "\n",
    "    def __init__(self, rnn_size, cell_type='gru', num_layers=1,\n",
    "                 input_op_fn=null_input_op_fn, initial_state=None,\n",
    "                 bidirectional=False, sequence_length=None,\n",
    "                 n_classes=0, tf_master=\"\", batch_size=32,\n",
    "                 steps=50, optimizer=\"SGD\", learning_rate=0.1,\n",
    "                 tf_random_seed=42, continue_training=False,\n",
    "                 config_addon=None, verbose=1,\n",
    "                 max_to_keep=5, keep_checkpoint_every_n_hours=10000):\n",
    "\n",
    "        self.rnn_size = rnn_size\n",
    "        self.cell_type = cell_type\n",
    "        self.input_op_fn = input_op_fn\n",
    "        self.bidirectional = bidirectional\n",
    "        self.num_layers = num_layers\n",
    "        self.sequence_length = sequence_length\n",
    "        self.initial_state = initial_state\n",
    "        super(TensorFlowRNNRegressor, self).__init__(\n",
    "            model_fn=self._model_fn,\n",
    "            n_classes=n_classes, tf_master=tf_master,\n",
    "            batch_size=batch_size, steps=steps, optimizer=optimizer,\n",
    "            learning_rate=learning_rate, tf_random_seed=tf_random_seed,\n",
    "            continue_training=continue_training, config_addon=config_addon,\n",
    "            verbose=verbose, max_to_keep=max_to_keep,\n",
    "            keep_checkpoint_every_n_hours=keep_checkpoint_every_n_hours)\n",
    "\n",
    "    def _model_fn(self, X, y):\n",
    "        return models.get_rnn_model(self.rnn_size, self.cell_type,\n",
    "                                    self.num_layers,\n",
    "                                    self.input_op_fn, self.bidirectional,\n",
    "                                    models.linear_regression,\n",
    "                                    self.sequence_length,\n",
    "                                    self.initial_state)(X, y)\n"
   ]
  },
  {
   "cell_type": "code",
   "execution_count": null,
   "metadata": {
    "collapsed": true
   },
   "outputs": [],
   "source": [
    "def get_rnn_model(rnn_size, cell_type, num_layers, input_op_fn,\n",
    "                  bidirectional, target_predictor_fn,\n",
    "                  sequence_length, initial_state):\n",
    "    \"\"\"Returns a function that creates a RNN TensorFlow subgraph with given\n",
    "    params.\n",
    "    Args:\n",
    "        rnn_size: The size for rnn cell, e.g. size of your word embeddings.\n",
    "        cell_type: The type of rnn cell, including rnn, gru, and lstm.\n",
    "        num_layers: The number of layers of the rnn model.\n",
    "        input_op_fn: Function that will transform the input tensor, such as\n",
    "                     creating word embeddings, byte list, etc. This takes\n",
    "                     an argument X for input and returns transformed X.\n",
    "        bidirectional: boolean, Whether this is a bidirectional rnn.\n",
    "        target_predictor_fn: Function that will predict target from input\n",
    "                             features. This can be logistic regression,\n",
    "                             linear regression or any other model,\n",
    "                             that takes X, y and returns predictions and loss tensors.\n",
    "        sequence_length: If sequence_length is provided, dynamic calculation is performed.\n",
    "                         This saves computational time when unrolling past max sequence length.\n",
    "                         Required for bidirectional RNNs.\n",
    "        initial_state: An initial state for the RNN. This must be a tensor of appropriate type\n",
    "                       and shape [batch_size x cell.state_size].\n",
    "    Returns:\n",
    "        A function that creates the subgraph.\n",
    "    \"\"\"\n",
    "    def rnn_estimator(X, y):\n",
    "        \"\"\"RNN estimator with target predictor function on top.\"\"\"\n",
    "        X = input_op_fn(X)\n",
    "        if cell_type == 'rnn':\n",
    "            cell_fn = tf.nn.rnn_cell.BasicRNNCell\n",
    "        elif cell_type == 'gru':\n",
    "            cell_fn = tf.nn.rnn_cell.GRUCell\n",
    "        elif cell_type == 'lstm':\n",
    "            cell_fn = tf.nn.rnn_cell.BasicLSTMCell\n",
    "        else:\n",
    "            raise ValueError(\"cell_type {} is not supported. \".format(cell_type))\n",
    "        if bidirectional:\n",
    "            # forward direction cell\n",
    "            rnn_fw_cell = tf.nn.rnn_cell.MultiRNNCell([cell_fn(rnn_size)] * num_layers)\n",
    "            # backward direction cell\n",
    "            rnn_bw_cell = tf.nn.rnn_cell.MultiRNNCell([cell_fn(rnn_size)] * num_layers)\n",
    "            # pylint: disable=unexpected-keyword-arg, no-value-for-parameter\n",
    "            _, encoding = bidirectional_rnn(rnn_fw_cell, rnn_bw_cell, X,\n",
    "                                            dtype=tf.float32,\n",
    "                                            sequence_length=sequence_length,\n",
    "                                            initial_state_fw=initial_state,\n",
    "                                            initial_state_bw=initial_state)\n",
    "        else:\n",
    "            cell = tf.nn.rnn_cell.MultiRNNCell([cell_fn(rnn_size)] * num_layers)\n",
    "            _, encoding = tf.nn.rnn(cell, X, dtype=tf.float32,\n",
    "                                    sequence_length=sequence_length,\n",
    "                                    initial_state=initial_state)\n",
    "        return target_predictor_fn(encoding, y)\n",
    "    return rnn_estimator"
   ]
  },
  {
   "cell_type": "code",
   "execution_count": 77,
   "metadata": {
    "collapsed": false
   },
   "outputs": [],
   "source": [
    "\n",
    "#train = pandas.read_csv('dbpedia_csv/train.csv', header=None)\n",
    "#X_train, y_train = train[2], train[0]\n",
    "#test = pandas.read_csv('dbpedia_csv/test.csv', header=None)\n",
    "#X_test, y_test = test[2], test[0]\n",
    "\n",
    "### Process vocabulary\n",
    "\n",
    "#MAX_DOCUMENT_LENGTH = 10\n",
    "\n",
    "#vocab_processor = skflow.preprocessing.VocabularyProcessor(MAX_DOCUMENT_LENGTH)\n",
    "#X_train = np.array(list(vocab_processor.fit_transform(X_train)))\n",
    "#X_test = np.array(list(vocab_processor.transform(X_test)))\n",
    "\n",
    "#n_words = len(vocab_processor.vocabulary_)\n",
    "#print('Total words: %d' % n_words)\n",
    "\n",
    "### Models\n",
    "\n",
    "#EMBEDDING_SIZE = 50\n",
    "\n",
    "# Customized function to transform batched X into embeddings\n",
    "\n",
    "input_op_fn = lambda x:x\n",
    "\n",
    "\n",
    "# Single direction GRU with a single layer\n",
    "classifier = skflow.TensorFlowRNNRegressor(rnn_size=1, \n",
    "     cell_type='gru',  batch_size = 1, \n",
    "    num_layers=1, bidirectional=False, sequence_length=None,\n",
    "    steps=1000, optimizer='Adam', learning_rate=0.01, continue_training=True)\n",
    "\n",
    "# Continously train for 1000 steps & predict on test set.\n",
    "#while True:\n",
    "#    classifier.fit(X_train, y_train, logdir='/tmp/tf_examples/word_rnn')\n",
    "#    score = metrics.accuracy_score(y_test, classifier.predict(X_test))\n",
    "#    print('Accuracy: {0:f}'.format(score))\n",
    "\n"
   ]
  },
  {
   "cell_type": "code",
   "execution_count": 39,
   "metadata": {
    "collapsed": false
   },
   "outputs": [
    {
     "name": "stdout",
     "output_type": "stream",
     "text": [
      "Total words: 743040\n"
     ]
    }
   ],
   "source": [
    "import pandas as pd\n",
    "\n",
    "train = pandas.read_csv('dbpedia_csv/train.csv', header=None)\n",
    "X_train, y_train = train[2], train[0]\n",
    "test = pandas.read_csv('dbpedia_csv/test.csv', header=None)\n",
    "X_test, y_test = test[2], test[0]\n",
    "\n",
    "### Process vocabulary\n",
    "\n",
    "MAX_DOCUMENT_LENGTH = 10\n",
    "\n",
    "\n",
    "vocab_processor = skflow.preprocessing.VocabularyProcessor(MAX_DOCUMENT_LENGTH)\n",
    "X_train = np.array(list(vocab_processor.fit_transform(X_train)))\n",
    "X_test = np.array(list(vocab_processor.transform(X_test)))\n",
    "\n",
    "n_words = len(vocab_processor.vocabulary_)\n",
    "print('Total words: %d' % n_words)\n"
   ]
  },
  {
   "cell_type": "code",
   "execution_count": 42,
   "metadata": {
    "collapsed": true
   },
   "outputs": [],
   "source": [
    "def input_op_fn(X):\n",
    "    # Convert indexes of words into embeddings.\n",
    "    # This creates embeddings matrix of [n_words, EMBEDDING_SIZE] and then\n",
    "    # maps word indexes of the sequence into [batch_size, sequence_length,\n",
    "    # EMBEDDING_SIZE].\n",
    "    word_vectors = skflow.ops.categorical_variable(X, n_classes=n_words,\n",
    "        embedding_size=EMBEDDING_SIZE, name='words')\n",
    "    # Split into list of embedding per word, while removing doc length dim.\n",
    "    # word_list results to be a list of tensors [batch_size, EMBEDDING_SIZE].\n",
    "    word_list = skflow.ops.split_squeeze(1, MAX_DOCUMENT_LENGTH, word_vectors)\n",
    "    return word_list"
   ]
  },
  {
   "cell_type": "code",
   "execution_count": 44,
   "metadata": {
    "collapsed": false
   },
   "outputs": [],
   "source": [
    "EMBEDDING_SIZE = 50\n",
    "t = input_op_fn(X_train)"
   ]
  },
  {
   "cell_type": "code",
   "execution_count": 51,
   "metadata": {
    "collapsed": false
   },
   "outputs": [
    {
     "data": {
      "text/plain": [
       "array([ 1,  2,  3,  4,  5,  6,  7,  8,  9, 10, 11, 12, 13, 14])"
      ]
     },
     "execution_count": 51,
     "metadata": {},
     "output_type": "execute_result"
    }
   ],
   "source": []
  },
  {
   "cell_type": "code",
   "execution_count": 82,
   "metadata": {
    "collapsed": false
   },
   "outputs": [
    {
     "name": "stdout",
     "output_type": "stream",
     "text": [
      "Total words: 743040\n"
     ]
    }
   ],
   "source": [
    "train = pandas.read_csv('dbpedia_csv/train.csv', header=None)\n",
    "X_train, y_train = train[2], train[0]\n",
    "test = pandas.read_csv('dbpedia_csv/test.csv', header=None)\n",
    "X_test, y_test = test[2], test[0]\n",
    "\n",
    "### Process vocabulary\n",
    "\n",
    "MAX_DOCUMENT_LENGTH = 10\n",
    "\n",
    "\n",
    "vocab_processor = skflow.preprocessing.VocabularyProcessor(MAX_DOCUMENT_LENGTH)\n",
    "X_train = np.array(list(vocab_processor.fit_transform(X_train)))\n",
    "X_test = np.array(list(vocab_processor.transform(X_test)))\n",
    "\n",
    "n_words = len(vocab_processor.vocabulary_)\n",
    "print('Total words: %d' % n_words)\n",
    "\n",
    "### Models\n",
    "\n",
    "EMBEDDING_SIZE = 50\n",
    "\n",
    "# Customized function to transform batched X into embeddings\n",
    "def input_op_fn(X):\n",
    "    # Convert indexes of words into embeddings.\n",
    "    # This creates embeddings matrix of [n_words, EMBEDDING_SIZE] and then\n",
    "    # maps word indexes of the sequence into [batch_size, sequence_length,\n",
    "    # EMBEDDING_SIZE].\n",
    "    word_vectors = skflow.ops.categorical_variable(X, n_classes=n_words,\n",
    "        embedding_size=EMBEDDING_SIZE, name='words')\n",
    "    # Split into list of embedding per word, while removing doc length dim.\n",
    "    # word_list results to be a list of tensors [batch_size, EMBEDDING_SIZE].\n",
    "    word_list = skflow.ops.split_squeeze(1, MAX_DOCUMENT_LENGTH, word_vectors)\n",
    "    return word_list\n",
    "\n",
    "# Single direction GRU with a single layer\n",
    "classifier = skflow.TensorFlowRNNClassifier(rnn_size=EMBEDDING_SIZE, \n",
    "    n_classes=15, cell_type='gru', input_op_fn=input_op_fn,\n",
    "    num_layers=1, bidirectional=False, sequence_length=None,\n",
    "    steps=1000, optimizer='Adam', learning_rate=0.01, continue_training=True)\n",
    "\n",
    "# Continously train for 1000 steps & predict on test set.\n",
    "#while True:\n",
    "#    classifier.fit(X_train, y_train, logdir='/tmp/tf_examples/word_rnn')\n",
    "#    score = metrics.accuracy_score(y_test, classifier.predict(X_test))\n",
    "#    print('Accuracy: {0:f}'.format(score))"
   ]
  },
  {
   "cell_type": "code",
   "execution_count": 85,
   "metadata": {
    "collapsed": false
   },
   "outputs": [
    {
     "ename": "KeyboardInterrupt",
     "evalue": "",
     "output_type": "error",
     "traceback": [
      "\u001b[0;31m---------------------------------------------------------------------------\u001b[0m",
      "\u001b[0;31mKeyboardInterrupt\u001b[0m                         Traceback (most recent call last)",
      "\u001b[0;32m<ipython-input-85-f901c04037b3>\u001b[0m in \u001b[0;36m<module>\u001b[0;34m()\u001b[0m\n\u001b[0;32m----> 1\u001b[0;31m \u001b[0mclassifier\u001b[0m\u001b[0;34m.\u001b[0m\u001b[0mfit\u001b[0m\u001b[0;34m(\u001b[0m\u001b[0mX_train\u001b[0m\u001b[0;34m,\u001b[0m \u001b[0my_train\u001b[0m\u001b[0;34m)\u001b[0m\u001b[0;34m\u001b[0m\u001b[0m\n\u001b[0m",
      "\u001b[0;32m/Users/ryanwheeler/.conda/envs/py27/lib/python2.7/site-packages/tensorflow/contrib/learn/python/learn/estimators/base.pyc\u001b[0m in \u001b[0;36mfit\u001b[0;34m(self, X, y, monitor, logdir)\u001b[0m\n\u001b[1;32m    252\u001b[0m             \u001b[0msummary_writer\u001b[0m\u001b[0;34m=\u001b[0m\u001b[0mself\u001b[0m\u001b[0;34m.\u001b[0m\u001b[0m_summary_writer\u001b[0m\u001b[0;34m,\u001b[0m\u001b[0;34m\u001b[0m\u001b[0m\n\u001b[1;32m    253\u001b[0m             \u001b[0msummaries\u001b[0m\u001b[0;34m=\u001b[0m\u001b[0mself\u001b[0m\u001b[0;34m.\u001b[0m\u001b[0m_summaries\u001b[0m\u001b[0;34m,\u001b[0m\u001b[0;34m\u001b[0m\u001b[0m\n\u001b[0;32m--> 254\u001b[0;31m             feed_params_fn=self._data_feeder.get_feed_params)\n\u001b[0m\u001b[1;32m    255\u001b[0m         \u001b[0;32mreturn\u001b[0m \u001b[0mself\u001b[0m\u001b[0;34m\u001b[0m\u001b[0m\n\u001b[1;32m    256\u001b[0m \u001b[0;34m\u001b[0m\u001b[0m\n",
      "\u001b[0;32m/Users/ryanwheeler/.conda/envs/py27/lib/python2.7/site-packages/tensorflow/contrib/learn/python/learn/trainer.pyc\u001b[0m in \u001b[0;36mtrain\u001b[0;34m(session, train_op, loss, global_step, feed_dict_fn, steps, monitor, summary_writer, summaries, feed_params_fn)\u001b[0m\n\u001b[1;32m     51\u001b[0m             global_step_value, loss_value, summ, _ = session.run(\n\u001b[1;32m     52\u001b[0m                 \u001b[0;34m[\u001b[0m\u001b[0mglobal_step\u001b[0m\u001b[0;34m,\u001b[0m \u001b[0mloss\u001b[0m\u001b[0;34m,\u001b[0m \u001b[0msummaries\u001b[0m\u001b[0;34m,\u001b[0m \u001b[0mtrain_op\u001b[0m\u001b[0;34m]\u001b[0m\u001b[0;34m,\u001b[0m\u001b[0;34m\u001b[0m\u001b[0m\n\u001b[0;32m---> 53\u001b[0;31m                 feed_dict=feed_dict)\n\u001b[0m\u001b[1;32m     54\u001b[0m         \u001b[0;32melse\u001b[0m\u001b[0;34m:\u001b[0m\u001b[0;34m\u001b[0m\u001b[0m\n\u001b[1;32m     55\u001b[0m             global_step_value, loss_value, _ = session.run(\n",
      "\u001b[0;32m/Users/ryanwheeler/.conda/envs/py27/lib/python2.7/site-packages/tensorflow/python/client/session.pyc\u001b[0m in \u001b[0;36mrun\u001b[0;34m(self, fetches, feed_dict, options, run_metadata)\u001b[0m\n\u001b[1;32m    338\u001b[0m     \u001b[0;32mtry\u001b[0m\u001b[0;34m:\u001b[0m\u001b[0;34m\u001b[0m\u001b[0m\n\u001b[1;32m    339\u001b[0m       result = self._run(None, fetches, feed_dict, options_ptr,\n\u001b[0;32m--> 340\u001b[0;31m                          run_metadata_ptr)\n\u001b[0m\u001b[1;32m    341\u001b[0m       \u001b[0;32mif\u001b[0m \u001b[0mrun_metadata\u001b[0m\u001b[0;34m:\u001b[0m\u001b[0;34m\u001b[0m\u001b[0m\n\u001b[1;32m    342\u001b[0m         \u001b[0mproto_data\u001b[0m \u001b[0;34m=\u001b[0m \u001b[0mtf_session\u001b[0m\u001b[0;34m.\u001b[0m\u001b[0mTF_GetBuffer\u001b[0m\u001b[0;34m(\u001b[0m\u001b[0mrun_metadata_ptr\u001b[0m\u001b[0;34m)\u001b[0m\u001b[0;34m\u001b[0m\u001b[0m\n",
      "\u001b[0;32m/Users/ryanwheeler/.conda/envs/py27/lib/python2.7/site-packages/tensorflow/python/client/session.pyc\u001b[0m in \u001b[0;36m_run\u001b[0;34m(self, handle, fetches, feed_dict, options, run_metadata)\u001b[0m\n\u001b[1;32m    562\u001b[0m     \u001b[0;32mtry\u001b[0m\u001b[0;34m:\u001b[0m\u001b[0;34m\u001b[0m\u001b[0m\n\u001b[1;32m    563\u001b[0m       results = self._do_run(handle, target_list, unique_fetches,\n\u001b[0;32m--> 564\u001b[0;31m                              feed_dict_string, options, run_metadata)\n\u001b[0m\u001b[1;32m    565\u001b[0m     \u001b[0;32mfinally\u001b[0m\u001b[0;34m:\u001b[0m\u001b[0;34m\u001b[0m\u001b[0m\n\u001b[1;32m    566\u001b[0m       \u001b[0;31m# The movers are no longer used. Delete them.\u001b[0m\u001b[0;34m\u001b[0m\u001b[0;34m\u001b[0m\u001b[0m\n",
      "\u001b[0;32m/Users/ryanwheeler/.conda/envs/py27/lib/python2.7/site-packages/tensorflow/python/client/session.pyc\u001b[0m in \u001b[0;36m_do_run\u001b[0;34m(self, handle, target_list, fetch_list, feed_dict, options, run_metadata)\u001b[0m\n\u001b[1;32m    635\u001b[0m     \u001b[0;32mif\u001b[0m \u001b[0mhandle\u001b[0m \u001b[0;32mis\u001b[0m \u001b[0mNone\u001b[0m\u001b[0;34m:\u001b[0m\u001b[0;34m\u001b[0m\u001b[0m\n\u001b[1;32m    636\u001b[0m       return self._do_call(_run_fn, self._session, feed_dict, fetch_list,\n\u001b[0;32m--> 637\u001b[0;31m                            target_list, options, run_metadata)\n\u001b[0m\u001b[1;32m    638\u001b[0m     \u001b[0;32melse\u001b[0m\u001b[0;34m:\u001b[0m\u001b[0;34m\u001b[0m\u001b[0m\n\u001b[1;32m    639\u001b[0m       return self._do_call(_prun_fn, self._session, handle, feed_dict,\n",
      "\u001b[0;32m/Users/ryanwheeler/.conda/envs/py27/lib/python2.7/site-packages/tensorflow/python/client/session.pyc\u001b[0m in \u001b[0;36m_do_call\u001b[0;34m(self, fn, *args)\u001b[0m\n\u001b[1;32m    642\u001b[0m   \u001b[0;32mdef\u001b[0m \u001b[0m_do_call\u001b[0m\u001b[0;34m(\u001b[0m\u001b[0mself\u001b[0m\u001b[0;34m,\u001b[0m \u001b[0mfn\u001b[0m\u001b[0;34m,\u001b[0m \u001b[0;34m*\u001b[0m\u001b[0margs\u001b[0m\u001b[0;34m)\u001b[0m\u001b[0;34m:\u001b[0m\u001b[0;34m\u001b[0m\u001b[0m\n\u001b[1;32m    643\u001b[0m     \u001b[0;32mtry\u001b[0m\u001b[0;34m:\u001b[0m\u001b[0;34m\u001b[0m\u001b[0m\n\u001b[0;32m--> 644\u001b[0;31m       \u001b[0;32mreturn\u001b[0m \u001b[0mfn\u001b[0m\u001b[0;34m(\u001b[0m\u001b[0;34m*\u001b[0m\u001b[0margs\u001b[0m\u001b[0;34m)\u001b[0m\u001b[0;34m\u001b[0m\u001b[0m\n\u001b[0m\u001b[1;32m    645\u001b[0m     \u001b[0;32mexcept\u001b[0m \u001b[0mtf_session\u001b[0m\u001b[0;34m.\u001b[0m\u001b[0mStatusNotOK\u001b[0m \u001b[0;32mas\u001b[0m \u001b[0me\u001b[0m\u001b[0;34m:\u001b[0m\u001b[0;34m\u001b[0m\u001b[0m\n\u001b[1;32m    646\u001b[0m       \u001b[0merror_message\u001b[0m \u001b[0;34m=\u001b[0m \u001b[0mcompat\u001b[0m\u001b[0;34m.\u001b[0m\u001b[0mas_text\u001b[0m\u001b[0;34m(\u001b[0m\u001b[0me\u001b[0m\u001b[0;34m.\u001b[0m\u001b[0merror_message\u001b[0m\u001b[0;34m)\u001b[0m\u001b[0;34m\u001b[0m\u001b[0m\n",
      "\u001b[0;32m/Users/ryanwheeler/.conda/envs/py27/lib/python2.7/site-packages/tensorflow/python/client/session.pyc\u001b[0m in \u001b[0;36m_run_fn\u001b[0;34m(session, feed_dict, fetch_list, target_list, options, run_metadata)\u001b[0m\n\u001b[1;32m    626\u001b[0m       \u001b[0;32melse\u001b[0m\u001b[0;34m:\u001b[0m\u001b[0;34m\u001b[0m\u001b[0m\n\u001b[1;32m    627\u001b[0m         return tf_session.TF_Run(\n\u001b[0;32m--> 628\u001b[0;31m             session, None, feed_dict, fetch_list, target_list, None)\n\u001b[0m\u001b[1;32m    629\u001b[0m \u001b[0;34m\u001b[0m\u001b[0m\n\u001b[1;32m    630\u001b[0m     \u001b[0;32mdef\u001b[0m \u001b[0m_prun_fn\u001b[0m\u001b[0;34m(\u001b[0m\u001b[0msession\u001b[0m\u001b[0;34m,\u001b[0m \u001b[0mhandle\u001b[0m\u001b[0;34m,\u001b[0m \u001b[0mfeed_dict\u001b[0m\u001b[0;34m,\u001b[0m \u001b[0mfetch_list\u001b[0m\u001b[0;34m)\u001b[0m\u001b[0;34m:\u001b[0m\u001b[0;34m\u001b[0m\u001b[0m\n",
      "\u001b[0;31mKeyboardInterrupt\u001b[0m: "
     ]
    }
   ],
   "source": [
    "classifier.fit(X_train, y_train)"
   ]
  },
  {
   "cell_type": "code",
   "execution_count": null,
   "metadata": {
    "collapsed": true
   },
   "outputs": [],
   "source": []
  },
  {
   "cell_type": "code",
   "execution_count": null,
   "metadata": {
    "collapsed": true
   },
   "outputs": [],
   "source": [
    "\n",
    "\"\"\"LSTM for time series classification\n",
    "Made: 30 march 2016\n",
    "This model takes in time series and class labels.\n",
    "The LSTM models the time series. A fully-connected layer\n",
    "generates an output to be classified with Softmax\n",
    "\"\"\"\n",
    "from __future__ import absolute_import\n",
    "from __future__ import division\n",
    "from __future__ import print_function\n",
    "\n",
    "import numpy as np\n",
    "import tensorflow as tf\n",
    "import matplotlib.pyplot as plt\n",
    "from tensorflow.python.framework import ops\n",
    "from tensorflow.python.ops import clip_ops\n",
    "\n",
    "\n",
    "def sample_batch(X_train,y_train,batch_size,num_steps):\n",
    "    \"\"\" Function to sample a batch for training\"\"\"\n",
    "    N,data_len = X_train.shape\n",
    "    ind_N = np.random.choice(N,batch_size,replace=False)\n",
    "    ind_start = np.random.choice(data_len-num_steps,1)\n",
    "    #form batch\n",
    "    X_batch = X_train[ind_N,ind_start:ind_start+num_steps]\n",
    "    y_batch = y_train[ind_N]\n",
    "    return X_batch,y_batch\n",
    "    \n",
    "def check_test(X_test,y_test,batch_size,num_steps):\n",
    "    \"\"\" Function to check the test_accuracy on the entire test set\n",
    "    This is a workaround. I haven't figured out yet how to make the graph\n",
    "    general for multiple batch sizes.\"\"\"\n",
    "    N = X_test.shape[0]\n",
    "    num_batch = np.floor(N/batch_size)\n",
    "    test_acc = np.zeros(num_batch)\n",
    "    for i in range(int(num_batch)):\n",
    "      X_batch, y_batch = sample_batch(X_test,y_test,batch_size,num_steps)\n",
    "      test_acc[i] = session.run(accuracy,feed_dict = {input_data: X_batch, targets: y_batch, initial_state:state,keep_prob:1})\n",
    "    return np.mean(test_acc)\n",
    "\n",
    "\n",
    "\n",
    "\n",
    "\"\"\"Hyperparamaters\"\"\"\n",
    "init_scale = 0.08           #Initial scale for the states\n",
    "max_grad_norm = 25          #Clipping of the gradient before update\n",
    "num_layers = 2              #Number of stacked LSTM layers\n",
    "num_steps = 32              #Number of steps to backprop over at every batch\n",
    "hidden_size = 13            #Number of entries of the cell state of the LSTM\n",
    "max_iterations = 2000       #Maximum iterations to train\n",
    "batch_size = 30             #Batch size\n",
    "\n",
    "\n",
    "\"\"\"Place holders\"\"\"\n",
    "input_data = tf.placeholder(tf.float32, [None, num_steps], name = 'input_data')\n",
    "targets = tf.placeholder(tf.int64, [None], name='Targets')\n",
    "#Used later on for drop_out. At testtime, we pass 1.0\n",
    "keep_prob = tf.placeholder(\"float\", name = 'Drop_out_keep_prob')  \n",
    "\n",
    "initializer = tf.random_uniform_initializer(-init_scale,init_scale)\n",
    "with tf.variable_scope(\"model\", initializer=initializer):\n",
    "  \"\"\"Define the basis LSTM\"\"\"\n",
    "  with tf.name_scope(\"LSTM_setup\") as scope:\n",
    "    lstm_cell = tf.nn.rnn_cell.BasicLSTMCell(hidden_size)\n",
    "    if keep_prob < 1:\n",
    "      lstm_cell = tf.nn.rnn_cell.DropoutWrapper(lstm_cell, output_keep_prob=keep_prob)\n",
    "      cell = tf.nn.rnn_cell.MultiRNNCell([lstm_cell] * num_layers)\n",
    "    initial_state = cell.zero_state(batch_size, tf.float32)   #Initialize the zero_state. Note that it has to be run in session-time\n",
    "    #We have only one input dimension, but we generalize our code for future expansion\n",
    "    inputs = tf.expand_dims(input_data, 2)\n",
    "\n",
    "  #Define the recurrent nature of the LSTM\n",
    "  #Re-use variables only after first time-step\n",
    "  with tf.name_scope(\"LSTM\") as scope:\n",
    "    outputs = []\n",
    "    state = initial_state\n",
    "    with tf.variable_scope(\"LSTM_state\"):\n",
    "      for time_step in range(num_steps):\n",
    "       if time_step > 0: tf.get_variable_scope().reuse_variables()\n",
    "       (cell_output, state) = cell(inputs[:, time_step, :], state)\n",
    "       outputs.append(cell_output)       #Now cell_output is size [batch_size x hidden_size]\n",
    "\n",
    "\n",
    "#Generate a classification from the last cell_output\n",
    "#Note, this is where timeseries classification differs from sequence to sequence\n",
    "#modelling. We only output to Softmax at last time step\n",
    "with tf.name_scope(\"Softmax\") as scope:\n",
    "  with tf.variable_scope(\"Softmax_params\"): \n",
    "    # Both datasets have four output classes. Improve the code by changing the 4\n",
    "    # into a hyperparameter\n",
    "    softmax_w = tf.get_variable(\"softmax_w\", [hidden_size, 4])                         \n",
    "    softmax_b = tf.get_variable(\"softmax_b\", [4])                               \n",
    "  logits = tf.matmul(cell_output, softmax_w) + softmax_b\n",
    "  #Use sparse Softmax because we have mutually exclusive classes    \n",
    "  loss = tf.nn.sparse_softmax_cross_entropy_with_logits(logits,targets,name = 'Sparse_softmax')\n",
    "  cost = tf.reduce_sum(loss) / batch_size\n",
    "  #Pass on a summary to Tensorboard\n",
    "  cost_summ = tf.scalar_summary('Cost',cost)\n",
    "  # Calculate the accuracy\n",
    "  correct_prediction = tf.equal(tf.argmax(logits,1), targets)\n",
    "  accuracy = tf.reduce_mean(tf.cast(correct_prediction, \"float\"))\n",
    "  accuracy_summary = tf.scalar_summary(\"accuracy\", accuracy)\n",
    "\n",
    "\n",
    "\"\"\"Optimizer\"\"\"\n",
    "with tf.name_scope(\"Optimizer\") as scope:\n",
    "  tvars = tf.trainable_variables()\n",
    "  #We clip the gradients to prevent explosion\n",
    "  grads, _ = tf.clip_by_global_norm(tf.gradients(cost, tvars),max_grad_norm)\n",
    "  optimizer = tf.train.AdamOptimizer(8e-3)\n",
    "  gradients = zip(grads, tvars)\n",
    "  train_op = optimizer.apply_gradients(gradients)\n",
    "  # Add histograms for variables, gradients and gradient norms.\n",
    "  # The for-loop loops over all entries of the gradient and plots\n",
    "  # a histogram. We cut of\n",
    "  for gradient, variable in gradients:\n",
    "    if isinstance(gradient, ops.IndexedSlices):\n",
    "      grad_values = gradient.values\n",
    "    else:\n",
    "      grad_values = gradient\n",
    "    h1 = tf.histogram_summary(variable.name, variable)\n",
    "    h2 = tf.histogram_summary(variable.name + \"/gradients\", grad_values)\n",
    "    h3 = tf.histogram_summary(variable.name + \"/gradient_norm\", clip_ops.global_norm([grad_values]))\n",
    "  \n",
    "\"\"\"Load the data\"\"\"\n",
    "dummy = True\n",
    "if dummy:\n",
    "  data_train = np.loadtxt('UCR_TS_Archive_2015/Two_Patterns/Two_Patterns_TRAIN',delimiter=',')\n",
    "  data_test_val = np.loadtxt('UCR_TS_Archive_2015/Two_Patterns/Two_Patterns_TEST',delimiter=',')\n",
    "else:\n",
    "  data_train = np.loadtxt('data_train_dummy',delimiter=',')\n",
    "  data_test_val = np.loadtxt('data_test_dummy',delimiter=',')\n",
    "data_test,data_val = np.split(data_test_val,2)\n",
    "X_train = data_train[:,1:]\n",
    "X_val = data_val[:,1:]\n",
    "X_test = data_test[:,1:]\n",
    "N = X_train.shape[0]\n",
    "Ntest = X_test.shape[0]\n",
    "# Targets have labels 1-indexed. We subtract one for 0-indexed\n",
    "y_train = data_train[:,0]-1\n",
    "y_val = data_val[:,0]-1\n",
    "y_test = data_test[:,0]-1\n",
    "\n",
    "#Final code for the TensorBoard\n",
    "merged = tf.merge_all_summaries()\n",
    "\n",
    "\n",
    "# Collect the costs in a numpy fashion\n",
    "epochs = np.floor(batch_size*max_iterations / N)\n",
    "print('Train with approximately %d epochs' %(epochs))\n",
    "perf_collect = np.zeros((3,int(np.floor(max_iterations /100))))\n",
    "\n",
    "\"\"\"Session time\"\"\"\n",
    "with tf.Session() as session:\n",
    "  writer = tf.train.SummaryWriter(\"/home/rob/Dropbox/ml_projects/LSTM/log_tb\", session.graph_def)\n",
    "  tf.initialize_all_variables().run()\n",
    "  \n",
    "  \n",
    "  step = 0\n",
    "  for i in range(max_iterations):\n",
    "    \n",
    "    # Calculate some sizes\n",
    "    N = X_train.shape[0]\n",
    "    \n",
    "    #Sample batch for training\n",
    "    X_batch, y_batch = sample_batch(X_train,y_train,batch_size,num_steps)\n",
    "    state = initial_state.eval()  #Fire up the LSTM\n",
    "    \n",
    "    #Next line does the actual training\n",
    "    session.run(train_op,feed_dict = {input_data: X_batch,targets: y_batch,initial_state: state,keep_prob:0.5})\n",
    "    if i==0:\n",
    "        # Uset this line to check before-and-after test accuracy\n",
    "        acc_test_before = check_test(X_test,y_test,batch_size,num_steps)\n",
    "    if i%100 == 0:\n",
    "      #Evaluate training performance\n",
    "      X_batch, y_batch = sample_batch(X_train,y_train,batch_size,num_steps)                           \n",
    "      cost_out = session.run(cost,feed_dict = {input_data: X_batch, targets: y_batch, initial_state:state,keep_prob:1})\n",
    "      perf_collect[0,step] = cost_out\n",
    "      #print('At %d out of %d train cost is %.3f' %(i,max_iterations,cost_out)) #Uncomment line to follow train cost\n",
    "\n",
    "      #Evaluate validation performance\n",
    "      X_batch, y_batch = sample_batch(X_val,y_val,batch_size,num_steps)\n",
    "      result = session.run([cost,merged,accuracy],feed_dict = {input_data: X_batch, targets: y_batch, initial_state:state,keep_prob:1})\n",
    "      cost_out = result[0]\n",
    "      perf_collect[1,step] = cost_out\n",
    "      acc_val = result[2]\n",
    "      perf_collect[2,step] = acc_val\n",
    "      print('At %d out of %d val cost is %.3f and val acc is %.3f' %(i,max_iterations,cost_out,acc_val))\n",
    "      \n",
    "      #Write information to TensorBoard\n",
    "      summary_str = result[1]\n",
    "      writer.add_summary(summary_str, i)\n",
    "      writer.flush()\n",
    "      \n",
    "      step +=1\n",
    "  acc_test = check_test(X_test,y_test,batch_size,num_steps)\n",
    "\n",
    "\"\"\"Additional plots\"\"\"\n",
    "print('The accuracy on the test data is %.3f, before training was %.3f' %(acc_test,acc_test_before))\n",
    "plt.plot(perf_collect[0],label='Train')\n",
    "plt.plot(perf_collect[1],label = 'Valid')\n",
    "plt.plot(perf_collect[2],label = 'Valid accuracy')\n",
    "plt.axis([0, step, 0, np.max(perf_collect)])\n",
    "plt.legend()\n",
    "plt.show(\"\"\"LSTM for time series classification\n",
    "Made: 30 march 2016\n",
    "This model takes in time series and class labels.\n",
    "The LSTM models the time series. A fully-connected layer\n",
    "generates an output to be classified with Softmax\n",
    "\"\"\"\n",
    "from __future__ import absolute_import\n",
    "from __future__ import division\n",
    "from __future__ import print_function\n",
    "\n",
    "import numpy as np\n",
    "import tensorflow as tf\n",
    "import matplotlib.pyplot as plt\n",
    "from tensorflow.python.framework import ops\n",
    "from tensorflow.python.ops import clip_ops\n",
    "\n",
    "\n",
    "def sample_batch(X_train,y_train,batch_size,num_steps):\n",
    "    \"\"\" Function to sample a batch for training\"\"\"\n",
    "    N,data_len = X_train.shape\n",
    "    ind_N = np.random.choice(N,batch_size,replace=False)\n",
    "    ind_start = np.random.choice(data_len-num_steps,1)\n",
    "    #form batch\n",
    "    X_batch = X_train[ind_N,ind_start:ind_start+num_steps]\n",
    "    y_batch = y_train[ind_N]\n",
    "    return X_batch,y_batch\n",
    "    \n",
    "def check_test(X_test,y_test,batch_size,num_steps):\n",
    "    \"\"\" Function to check the test_accuracy on the entire test set\n",
    "    This is a workaround. I haven't figured out yet how to make the graph\n",
    "    general for multiple batch sizes.\"\"\"\n",
    "    N = X_test.shape[0]\n",
    "    num_batch = np.floor(N/batch_size)\n",
    "    test_acc = np.zeros(num_batch)\n",
    "    for i in range(int(num_batch)):\n",
    "      X_batch, y_batch = sample_batch(X_test,y_test,batch_size,num_steps)\n",
    "      test_acc[i] = session.run(accuracy,feed_dict = {input_data: X_batch, targets: y_batch, initial_state:state,keep_prob:1})\n",
    "    return np.mean(test_acc)\n",
    "\n",
    "\n",
    "\n",
    "\n",
    "\"\"\"Hyperparamaters\"\"\"\n",
    "init_scale = 0.08           #Initial scale for the states\n",
    "max_grad_norm = 25          #Clipping of the gradient before update\n",
    "num_layers = 2              #Number of stacked LSTM layers\n",
    "num_steps = 32              #Number of steps to backprop over at every batch\n",
    "hidden_size = 13            #Number of entries of the cell state of the LSTM\n",
    "max_iterations = 2000       #Maximum iterations to train\n",
    "batch_size = 30             #Batch size\n",
    "\n",
    "\n",
    "\"\"\"Place holders\"\"\"\n",
    "input_data = tf.placeholder(tf.float32, [None, num_steps], name = 'input_data')\n",
    "targets = tf.placeholder(tf.int64, [None], name='Targets')\n",
    "#Used later on for drop_out. At testtime, we pass 1.0\n",
    "keep_prob = tf.placeholder(\"float\", name = 'Drop_out_keep_prob')  \n",
    "\n",
    "initializer = tf.random_uniform_initializer(-init_scale,init_scale)\n",
    "with tf.variable_scope(\"model\", initializer=initializer):\n",
    "  \"\"\"Define the basis LSTM\"\"\"\n",
    "  with tf.name_scope(\"LSTM_setup\") as scope:\n",
    "    lstm_cell = tf.nn.rnn_cell.BasicLSTMCell(hidden_size)\n",
    "    if keep_prob < 1:\n",
    "      lstm_cell = tf.nn.rnn_cell.DropoutWrapper(lstm_cell, output_keep_prob=keep_prob)\n",
    "      cell = tf.nn.rnn_cell.MultiRNNCell([lstm_cell] * num_layers)\n",
    "    initial_state = cell.zero_state(batch_size, tf.float32)   #Initialize the zero_state. Note that it has to be run in session-time\n",
    "    #We have only one input dimension, but we generalize our code for future expansion\n",
    "    inputs = tf.expand_dims(input_data, 2)\n",
    "\n",
    "  #Define the recurrent nature of the LSTM\n",
    "  #Re-use variables only after first time-step\n",
    "  with tf.name_scope(\"LSTM\") as scope:\n",
    "    outputs = []\n",
    "    state = initial_state\n",
    "    with tf.variable_scope(\"LSTM_state\"):\n",
    "      for time_step in range(num_steps):\n",
    "       if time_step > 0: tf.get_variable_scope().reuse_variables()\n",
    "       (cell_output, state) = cell(inputs[:, time_step, :], state)\n",
    "       outputs.append(cell_output)       #Now cell_output is size [batch_size x hidden_size]\n",
    "\n",
    "\n",
    "#Generate a classification from the last cell_output\n",
    "#Note, this is where timeseries classification differs from sequence to sequence\n",
    "#modelling. We only output to Softmax at last time step\n",
    "with tf.name_scope(\"Softmax\") as scope:\n",
    "  with tf.variable_scope(\"Softmax_params\"): \n",
    "    # Both datasets have four output classes. Improve the code by changing the 4\n",
    "    # into a hyperparameter\n",
    "    softmax_w = tf.get_variable(\"softmax_w\", [hidden_size, 4])                         \n",
    "    softmax_b = tf.get_variable(\"softmax_b\", [4])                               \n",
    "  logits = tf.matmul(cell_output, softmax_w) + softmax_b\n",
    "  #Use sparse Softmax because we have mutually exclusive classes    \n",
    "  loss = tf.nn.sparse_softmax_cross_entropy_with_logits(logits,targets,name = 'Sparse_softmax')\n",
    "  cost = tf.reduce_sum(loss) / batch_size\n",
    "  #Pass on a summary to Tensorboard\n",
    "  cost_summ = tf.scalar_summary('Cost',cost)\n",
    "  # Calculate the accuracy\n",
    "  correct_prediction = tf.equal(tf.argmax(logits,1), targets)\n",
    "  accuracy = tf.reduce_mean(tf.cast(correct_prediction, \"float\"))\n",
    "  accuracy_summary = tf.scalar_summary(\"accuracy\", accuracy)\n",
    "\n",
    "\n",
    "\"\"\"Optimizer\"\"\"\n",
    "with tf.name_scope(\"Optimizer\") as scope:\n",
    "  tvars = tf.trainable_variables()\n",
    "  #We clip the gradients to prevent explosion\n",
    "  grads, _ = tf.clip_by_global_norm(tf.gradients(cost, tvars),max_grad_norm)\n",
    "  optimizer = tf.train.AdamOptimizer(8e-3)\n",
    "  gradients = zip(grads, tvars)\n",
    "  train_op = optimizer.apply_gradients(gradients)\n",
    "  # Add histograms for variables, gradients and gradient norms.\n",
    "  # The for-loop loops over all entries of the gradient and plots\n",
    "  # a histogram. We cut of\n",
    "  for gradient, variable in gradients:\n",
    "    if isinstance(gradient, ops.IndexedSlices):\n",
    "      grad_values = gradient.values\n",
    "    else:\n",
    "      grad_values = gradient\n",
    "    h1 = tf.histogram_summary(variable.name, variable)\n",
    "    h2 = tf.histogram_summary(variable.name + \"/gradients\", grad_values)\n",
    "    h3 = tf.histogram_summary(variable.name + \"/gradient_norm\", clip_ops.global_norm([grad_values]))\n",
    "  \n",
    "\"\"\"Load the data\"\"\"\n",
    "dummy = True\n",
    "if dummy:\n",
    "  data_train = np.loadtxt('UCR_TS_Archive_2015/Two_Patterns/Two_Patterns_TRAIN',delimiter=',')\n",
    "  data_test_val = np.loadtxt('UCR_TS_Archive_2015/Two_Patterns/Two_Patterns_TEST',delimiter=',')\n",
    "else:\n",
    "  data_train = np.loadtxt('data_train_dummy',delimiter=',')\n",
    "  data_test_val = np.loadtxt('data_test_dummy',delimiter=',')\n",
    "data_test,data_val = np.split(data_test_val,2)\n",
    "X_train = data_train[:,1:]\n",
    "X_val = data_val[:,1:]\n",
    "X_test = data_test[:,1:]\n",
    "N = X_train.shape[0]\n",
    "Ntest = X_test.shape[0]\n",
    "# Targets have labels 1-indexed. We subtract one for 0-indexed\n",
    "y_train = data_train[:,0]-1\n",
    "y_val = data_val[:,0]-1\n",
    "y_test = data_test[:,0]-1\n",
    "\n",
    "#Final code for the TensorBoard\n",
    "merged = tf.merge_all_summaries()\n",
    "\n",
    "\n",
    "# Collect the costs in a numpy fashion\n",
    "epochs = np.floor(batch_size*max_iterations / N)\n",
    "print('Train with approximately %d epochs' %(epochs))\n",
    "perf_collect = np.zeros((3,int(np.floor(max_iterations /100))))\n",
    "\n",
    "\"\"\"Session time\"\"\"\n",
    "with tf.Session() as session:\n",
    "  writer = tf.train.SummaryWriter(\"/home/rob/Dropbox/ml_projects/LSTM/log_tb\", session.graph_def)\n",
    "  tf.initialize_all_variables().run()\n",
    "  \n",
    "  \n",
    "  step = 0\n",
    "  for i in range(max_iterations):\n",
    "    \n",
    "    # Calculate some sizes\n",
    "    N = X_train.shape[0]\n",
    "    \n",
    "    #Sample batch for training\n",
    "    X_batch, y_batch = sample_batch(X_train,y_train,batch_size,num_steps)\n",
    "    state = initial_state.eval()  #Fire up the LSTM\n",
    "    \n",
    "    #Next line does the actual training\n",
    "    session.run(train_op,feed_dict = {input_data: X_batch,targets: y_batch,initial_state: state,keep_prob:0.5})\n",
    "    if i==0:\n",
    "        # Uset this line to check before-and-after test accuracy\n",
    "        acc_test_before = check_test(X_test,y_test,batch_size,num_steps)\n",
    "    if i%100 == 0:\n",
    "      #Evaluate training performance\n",
    "      X_batch, y_batch = sample_batch(X_train,y_train,batch_size,num_steps)                           \n",
    "      cost_out = session.run(cost,feed_dict = {input_data: X_batch, targets: y_batch, initial_state:state,keep_prob:1})\n",
    "      perf_collect[0,step] = cost_out\n",
    "      #print('At %d out of %d train cost is %.3f' %(i,max_iterations,cost_out)) #Uncomment line to follow train cost\n",
    "\n",
    "      #Evaluate validation performance\n",
    "      X_batch, y_batch = sample_batch(X_val,y_val,batch_size,num_steps)\n",
    "      result = session.run([cost,merged,accuracy],feed_dict = {input_data: X_batch, targets: y_batch, initial_state:state,keep_prob:1})\n",
    "      cost_out = result[0]\n",
    "      perf_collect[1,step] = cost_out\n",
    "      acc_val = result[2]\n",
    "      perf_collect[2,step] = acc_val\n",
    "      print('At %d out of %d val cost is %.3f and val acc is %.3f' %(i,max_iterations,cost_out,acc_val))\n",
    "      \n",
    "      #Write information to TensorBoard\n",
    "      summary_str = result[1]\n",
    "      writer.add_summary(summary_str, i)\n",
    "      writer.flush()\n",
    "      \n",
    "      step +=1\n",
    "  acc_test = check_test(X_test,y_test,batch_size,num_steps)\n",
    "\n",
    "\"\"\"Additional plots\"\"\"\n",
    "print('The accuracy on the test data is %.3f, before training was %.3f' %(acc_test,acc_test_before))\n",
    "plt.plot(perf_collect[0],label='Train')\n",
    "plt.plot(perf_collect[1],label = 'Valid')\n",
    "plt.plot(perf_collect[2],label = 'Valid accuracy')\n",
    "plt.axis([0, step, 0, np.max(perf_collect)])\n",
    "plt.legend()\n",
    "plt.show()"
   ]
  }
 ],
 "metadata": {
  "kernelspec": {
   "display_name": "Python 2",
   "language": "python",
   "name": "python2"
  },
  "language_info": {
   "codemirror_mode": {
    "name": "ipython",
    "version": 2
   },
   "file_extension": ".py",
   "mimetype": "text/x-python",
   "name": "python",
   "nbconvert_exporter": "python",
   "pygments_lexer": "ipython2",
   "version": "2.7.11"
  }
 },
 "nbformat": 4,
 "nbformat_minor": 0
}
